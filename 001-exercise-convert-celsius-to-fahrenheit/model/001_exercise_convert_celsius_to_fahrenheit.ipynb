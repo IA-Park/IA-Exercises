{
  "cells": [
    {
      "cell_type": "markdown",
      "metadata": {
        "id": "xCO3BarUf-B4"
      },
      "source": [
        "# *Exercise 001 - Create a model to convert celsius to fahrenheit*"
      ]
    },
    {
      "cell_type": "markdown",
      "metadata": {
        "id": "XGFJYitsnJrs"
      },
      "source": [
        "Aqui clonamos nuestro repositorio y cargamos nuestro dataset ***celsius-to-fahrenheit.csv***"
      ]
    },
    {
      "cell_type": "code",
      "execution_count": 1,
      "metadata": {
        "colab": {
          "base_uri": "https://localhost:8080/"
        },
        "id": "9SOcDgEtf8g8",
        "outputId": "ffe87d0e-a5a7-4883-deaf-024e080b6d6d"
      },
      "outputs": [
        {
          "output_type": "stream",
          "name": "stdout",
          "text": [
            "Cloning into 'IA-Exercises'...\n",
            "remote: Enumerating objects: 21, done.\u001b[K\n",
            "remote: Counting objects: 100% (21/21), done.\u001b[K\n",
            "remote: Compressing objects: 100% (19/19), done.\u001b[K\n",
            "remote: Total 21 (delta 1), reused 20 (delta 0), pack-reused 0\u001b[K\n",
            "Unpacking objects: 100% (21/21), done.\n"
          ]
        }
      ],
      "source": [
        "!git clone https://github.com/IA-Park/IA-Exercises.git"
      ]
    },
    {
      "cell_type": "code",
      "execution_count": 2,
      "metadata": {
        "colab": {
          "base_uri": "https://localhost:8080/"
        },
        "id": "08_AIXyJi42H",
        "outputId": "1c138377-6965-447f-b48c-4ce2af0f5616"
      },
      "outputs": [
        {
          "output_type": "stream",
          "name": "stdout",
          "text": [
            "/content/IA-Exercises\n"
          ]
        }
      ],
      "source": [
        "%cd IA-Exercises/"
      ]
    },
    {
      "cell_type": "code",
      "execution_count": 3,
      "metadata": {
        "colab": {
          "base_uri": "https://localhost:8080/"
        },
        "id": "Y3DL7SbnjE06",
        "outputId": "7e4c9ad5-b264-46f2-dc59-74fadbf9ae8e"
      },
      "outputs": [
        {
          "output_type": "stream",
          "name": "stdout",
          "text": [
            "Branch '001-exercise-convert-celsius-to-fahrenheit' set up to track remote branch '001-exercise-convert-celsius-to-fahrenheit' from 'origin'.\n",
            "Switched to a new branch '001-exercise-convert-celsius-to-fahrenheit'\n"
          ]
        }
      ],
      "source": [
        "!git checkout 001-exercise-convert-celsius-to-fahrenheit"
      ]
    },
    {
      "cell_type": "code",
      "execution_count": 5,
      "metadata": {
        "colab": {
          "base_uri": "https://localhost:8080/"
        },
        "id": "Z4muISEdl5Vv",
        "outputId": "6dab4162-2624-4a09-9e1e-4798ad479328"
      },
      "outputs": [
        {
          "output_type": "stream",
          "name": "stdout",
          "text": [
            "\u001b[0m\u001b[01;34m001-exercise-convert-celsius-to-fahrenheit\u001b[0m/  README.md\n"
          ]
        }
      ],
      "source": [
        "%ls"
      ]
    },
    {
      "cell_type": "code",
      "source": [
        "%cd 001-exercise-convert-celsius-to-fahrenheit"
      ],
      "metadata": {
        "id": "xtGLE25evYxj",
        "outputId": "87fa52ba-f403-4750-99ab-99237a295381",
        "colab": {
          "base_uri": "https://localhost:8080/"
        }
      },
      "execution_count": 7,
      "outputs": [
        {
          "output_type": "stream",
          "name": "stdout",
          "text": [
            "/content/IA-Exercises/001-exercise-convert-celsius-to-fahrenheit\n"
          ]
        }
      ]
    },
    {
      "cell_type": "code",
      "execution_count": 8,
      "metadata": {
        "colab": {
          "base_uri": "https://localhost:8080/"
        },
        "id": "2rWGOPsTmiG1",
        "outputId": "232e8a32-0c7f-4c26-fe01-9363add992d3"
      },
      "outputs": [
        {
          "output_type": "stream",
          "name": "stdout",
          "text": [
            "/content/IA-Exercises/001-exercise-convert-celsius-to-fahrenheit/dataset\n"
          ]
        }
      ],
      "source": [
        "%cd dataset"
      ]
    },
    {
      "cell_type": "code",
      "execution_count": 9,
      "metadata": {
        "colab": {
          "base_uri": "https://localhost:8080/"
        },
        "id": "RpLdyf-0mkzR",
        "outputId": "11a768c4-4aea-43e3-ef9d-ce060fd38193"
      },
      "outputs": [
        {
          "output_type": "stream",
          "name": "stdout",
          "text": [
            "celsius-to-fahrenheit.csv  celsius_to_fahrenheit.py\n"
          ]
        }
      ],
      "source": [
        "%ls"
      ]
    },
    {
      "cell_type": "code",
      "execution_count": 10,
      "metadata": {
        "colab": {
          "base_uri": "https://localhost:8080/"
        },
        "id": "iZeM-Jijmnpt",
        "outputId": "b4c47d8a-dff1-4a11-e574-a256185e41c3"
      },
      "outputs": [
        {
          "output_type": "stream",
          "name": "stdout",
          "text": [
            "Celsius,Fahrenheit\n",
            "-50,-58\n",
            "-40,-40\n",
            "-30,-22\n",
            "-20,-4\n",
            "-10,14\n",
            "-9,15.8\n",
            "-8,17.6\n",
            "-7,19.4\n",
            "-6,21.2\n",
            "-5,23\n",
            "-4,24.8\n",
            "-3,26.6\n",
            "-2,28.4\n",
            "-1,30.2\n",
            "0,32\n",
            "1,33.8\n",
            "2,35.6\n",
            "3,37.4\n",
            "4,39.2\n",
            "5,41.0\n",
            "6,42.8\n",
            "7,44.6\n",
            "8,46.4\n",
            "9,48.2\n",
            "10,50.0\n",
            "20,68.0\n",
            "30,86.0\n",
            "40,104.0\n",
            "50,122.0"
          ]
        }
      ],
      "source": [
        "%cat celsius-to-fahrenheit.csv"
      ]
    },
    {
      "cell_type": "markdown",
      "metadata": {
        "id": "HOQolYIvnIWv"
      },
      "source": [
        "Una vez tenemos nuestro dataset cargado empezamos a trabajar con el!!!\n",
        "\n"
      ]
    },
    {
      "cell_type": "code",
      "execution_count": 11,
      "metadata": {
        "id": "FB9D5n_cnhSr"
      },
      "outputs": [],
      "source": [
        "import tensorflow as tf\n",
        "import pandas as pd\n",
        "import numpy as np\n",
        "import seaborn as sns\n",
        "import matplotlib.pyplot as plt"
      ]
    },
    {
      "cell_type": "code",
      "execution_count": 12,
      "metadata": {
        "colab": {
          "base_uri": "https://localhost:8080/",
          "height": 351
        },
        "id": "d26lok8loKDm",
        "outputId": "e3643eb7-9a3a-4715-9864-fe7cf06f5e6d"
      },
      "outputs": [
        {
          "output_type": "stream",
          "name": "stderr",
          "text": [
            "/usr/local/lib/python3.8/dist-packages/seaborn/_decorators.py:36: FutureWarning: Pass the following variables as keyword args: x, y. From version 0.12, the only valid positional argument will be `data`, and passing other arguments without an explicit keyword will result in an error or misinterpretation.\n",
            "  warnings.warn(\n"
          ]
        },
        {
          "output_type": "execute_result",
          "data": {
            "text/plain": [
              "<matplotlib.axes._subplots.AxesSubplot at 0x7f53bfcd3e20>"
            ]
          },
          "metadata": {},
          "execution_count": 12
        },
        {
          "output_type": "display_data",
          "data": {
            "text/plain": [
              "<Figure size 432x288 with 1 Axes>"
            ],
            "image/png": "[encoded data removed]"
          },
          "metadata": {
            "needs_background": "light"
          }
        }
      ],
      "source": [
        "# Importando datos\n",
        "temperature_df = pd.read_csv(\"/content/IA-Exercises/001-exercise-convert-celsius-to-fahrenheit/dataset/celsius-to-fahrenheit.csv\")\n",
        "\n",
        "# Visualizacion de datos\n",
        "sns.scatterplot(temperature_df['Celsius'], temperature_df['Fahrenheit'])"
      ]
    }
  ],
  "metadata": {
    "colab": {
      "provenance": []
    },
    "gpuClass": "standard",
    "kernelspec": {
      "display_name": "Python 3",
      "language": "python",
      "name": "python3"
    },
    "language_info": {
      "name": "python",
      "version": "3.11.0 (main, Oct 24 2022, 18:26:48) [MSC v.1933 64 bit (AMD64)]"
    },
    "vscode": {
      "interpreter": {
        "hash": "1985604416ef82919d0e059d1807211a456d9f8588722506b35c3738437546d5"
      }
    }
  },
  "nbformat": 4,
  "nbformat_minor": 0
}