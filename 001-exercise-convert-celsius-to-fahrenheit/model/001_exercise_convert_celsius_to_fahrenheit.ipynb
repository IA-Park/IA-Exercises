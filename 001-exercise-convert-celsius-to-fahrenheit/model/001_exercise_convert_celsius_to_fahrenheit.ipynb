{
  "nbformat": 4,
  "nbformat_minor": 0,
  "metadata": {
    "colab": {
      "provenance": []
    },
    "kernelspec": {
      "name": "python3",
      "display_name": "Python 3"
    },
    "language_info": {
      "name": "python"
    }
  },
  "cells": [
    {
      "cell_type": "markdown",
      "source": [
        "*Exercise 001 - Create a model to convert celsius to fahrenheit*"
      ],
      "metadata": {
        "id": "xCO3BarUf-B4"
      }
    },
    {
      "cell_type": "code",
      "source": [],
      "metadata": {
        "id": "9SOcDgEtf8g8"
      },
      "execution_count": null,
      "outputs": []
    }
  ]
}