{
  "cells": [
    {
      "cell_type": "markdown",
      "metadata": {
        "id": "xCO3BarUf-B4"
      },
      "source": [
        "# *Exercise 001 - Create a model to convert celsius to fahrenheit*"
      ]
    },
    {
      "cell_type": "markdown",
      "metadata": {
        "id": "XGFJYitsnJrs"
      },
      "source": [
        "Aqui clonamos nuestro repositorio y cargamos nuestro dataset ***celsius-to-fahrenheit.csv***"
      ]
    },
    {
      "cell_type": "code",
      "execution_count": 1,
      "metadata": {
        "colab": {
          "base_uri": "https://localhost:8080/"
        },
        "id": "9SOcDgEtf8g8",
        "outputId": "2f6e19fa-7005-4974-de4a-1145951e15c5"
      },
      "outputs": [
        {
          "name": "stdout",
          "output_type": "stream",
          "text": [
            "Cloning into 'IA-Exercises'...\n",
            "remote: Enumerating objects: 14, done.\u001b[K\n",
            "remote: Counting objects: 100% (14/14), done.\u001b[K\n",
            "remote: Compressing objects: 100% (12/12), done.\u001b[K\n",
            "remote: Total 14 (delta 0), reused 14 (delta 0), pack-reused 0\u001b[K\n",
            "Unpacking objects: 100% (14/14), done.\n"
          ]
        }
      ],
      "source": [
        "!git clone https://github.com/IA-Park/IA-Exercises.git"
      ]
    },
    {
      "cell_type": "code",
      "execution_count": 47,
      "metadata": {
        "colab": {
          "base_uri": "https://localhost:8080/",
          "height": 157
        },
        "id": "08_AIXyJi42H",
        "outputId": "6c90733d-62d3-4319-f8b8-7ef844e3b7e3"
      },
      "outputs": [
        {
          "name": "stdout",
          "output_type": "stream",
          "text": [
            "[Errno 2] No such file or directory: 'IA-Exercises/'\n",
            "/content/IA-Exercises/001-exercise-convert-celsius-to-fahrenheit\n",
            "D\tREADME.md\n",
            "Already on '001-exercise-convert-celsius-to-fahrenheit'\n",
            "Your branch is up to date with 'origin/001-exercise-convert-celsius-to-fahrenheit'.\n",
            "[Errno 2] No such file or directory: '001-exercise-convert-celsius-to-fahrenheit'\n",
            "/content/IA-Exercises/001-exercise-convert-celsius-to-fahrenheit\n"
          ]
        },
        {
          "data": {
            "application/vnd.google.colaboratory.intrinsic+json": {
              "type": "string"
            },
            "text/plain": [
              "'/content/IA-Exercises/001-exercise-convert-celsius-to-fahrenheit'"
            ]
          },
          "execution_count": 47,
          "metadata": {},
          "output_type": "execute_result"
        }
      ],
      "source": [
        "%cd IA-Exercises/"
      ]
    },
    {
      "cell_type": "code",
      "execution_count": 44,
      "metadata": {
        "colab": {
          "base_uri": "https://localhost:8080/"
        },
        "id": "Y3DL7SbnjE06",
        "outputId": "0354010e-8181-4490-e405-09b59bdc3aec"
      },
      "outputs": [
        {
          "name": "stdout",
          "output_type": "stream",
          "text": [
            "/content/IA-Exercises/001-exercise-convert-celsius-to-fahrenheit\n"
          ]
        }
      ],
      "source": [
        "!git checkout 001-exercise-convert-celsius-to-fahrenheit"
      ]
    },
    {
      "cell_type": "code",
      "execution_count": 52,
      "metadata": {
        "colab": {
          "base_uri": "https://localhost:8080/",
          "height": 35
        },
        "id": "Z4muISEdl5Vv",
        "outputId": "be151a06-c261-4a95-d5a9-a1d8e279e86b"
      },
      "outputs": [
        {
          "data": {
            "application/vnd.google.colaboratory.intrinsic+json": {
              "type": "string"
            },
            "text/plain": [
              "'/content/IA-Exercises/001-exercise-convert-celsius-to-fahrenheit'"
            ]
          },
          "execution_count": 52,
          "metadata": {},
          "output_type": "execute_result"
        }
      ],
      "source": [
        "%pwd"
      ]
    },
    {
      "cell_type": "code",
      "execution_count": 53,
      "metadata": {
        "colab": {
          "base_uri": "https://localhost:8080/"
        },
        "id": "2rWGOPsTmiG1",
        "outputId": "1b772468-43f1-4b68-b08d-ffa188337c9c"
      },
      "outputs": [
        {
          "name": "stdout",
          "output_type": "stream",
          "text": [
            "/content/IA-Exercises/001-exercise-convert-celsius-to-fahrenheit/dataset\n"
          ]
        }
      ],
      "source": [
        "%cd dataset"
      ]
    },
    {
      "cell_type": "code",
      "execution_count": 54,
      "metadata": {
        "colab": {
          "base_uri": "https://localhost:8080/"
        },
        "id": "RpLdyf-0mkzR",
        "outputId": "70459226-628a-4e32-bda8-ac30be915563"
      },
      "outputs": [
        {
          "name": "stdout",
          "output_type": "stream",
          "text": [
            "celsius-to-fahrenheit.csv  celsius_to_fahrenheit.py\n"
          ]
        }
      ],
      "source": [
        "%ls"
      ]
    },
    {
      "cell_type": "code",
      "execution_count": null,
      "metadata": {
        "colab": {
          "base_uri": "https://localhost:8080/"
        },
        "id": "iZeM-Jijmnpt",
        "outputId": "7a1d631e-2fa8-44dd-9d49-b1a9113a35cc"
      },
      "outputs": [],
      "source": [
        "%cat celsius-to-fahrenheit.csv"
      ]
    },
    {
      "cell_type": "markdown",
      "metadata": {
        "id": "HOQolYIvnIWv"
      },
      "source": [
        "Una vez tenemos nuestro dataset cargado empezamos a trabajar con el!!!\n",
        "\n"
      ]
    },
    {
      "cell_type": "code",
      "execution_count": null,
      "metadata": {
        "id": "FB9D5n_cnhSr"
      },
      "outputs": [],
      "source": [
        "import tensorflow as tf\n",
        "import pandas as pd\n",
        "import numpy as np\n",
        "import seaborn as sns\n",
        "import matplotlib.pyplot as plt"
      ]
    },
    {
      "cell_type": "code",
      "execution_count": 63,
      "metadata": {
        "colab": {
          "base_uri": "https://localhost:8080/",
          "height": 351
        },
        "id": "d26lok8loKDm",
        "outputId": "f444a1e4-e41c-42d3-b21e-d6f83551e122"
      },
      "outputs": [
        {
          "name": "stderr",
          "output_type": "stream",
          "text": [
            "/usr/local/lib/python3.8/dist-packages/seaborn/_decorators.py:36: FutureWarning: Pass the following variables as keyword args: x, y. From version 0.12, the only valid positional argument will be `data`, and passing other arguments without an explicit keyword will result in an error or misinterpretation.\n",
            "  warnings.warn(\n"
          ]
        },
        {
          "data": {
            "text/plain": [
              "<matplotlib.axes._subplots.AxesSubplot at 0x7f7f82b5edc0>"
            ]
          },
          "execution_count": 63,
          "metadata": {},
          "output_type": "execute_result"
        },
        {
          "data": {
            "image/png": "[encoded data removed]",
            "text/plain": [
              "<Figure size 432x288 with 1 Axes>"
            ]
          },
          "metadata": {
            "needs_background": "light"
          },
          "output_type": "display_data"
        }
      ],
      "source": [
        "# Importando datos\n",
        "temperature_df = pd.read_csv(\"/content/IA-Exercises/001-exercise-convert-celsius-to-fahrenheit/dataset/celsius-to-fahrenheit.csv\")\n",
        "\n",
        "# Visualizacion de datos\n",
        "sns.scatterplot(temperature_df['Celsius'], temperature_df['Fahrenheit'])"
      ]
    }
  ],
  "metadata": {
    "accelerator": "GPU",
    "colab": {
      "provenance": []
    },
    "gpuClass": "standard",
    "kernelspec": {
      "display_name": "Python 3",
      "language": "python",
      "name": "python3"
    },
    "language_info": {
      "name": "python",
      "version": "3.11.0 (main, Oct 24 2022, 18:26:48) [MSC v.1933 64 bit (AMD64)]"
    },
    "vscode": {
      "interpreter": {
        "hash": "1985604416ef82919d0e059d1807211a456d9f8588722506b35c3738437546d5"
      }
    }
  },
  "nbformat": 4,
  "nbformat_minor": 0
}
